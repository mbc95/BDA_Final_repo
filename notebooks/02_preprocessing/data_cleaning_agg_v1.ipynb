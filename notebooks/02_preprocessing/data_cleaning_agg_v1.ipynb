{
 "cells": [
  {
   "cell_type": "code",
   "execution_count": 72,
   "metadata": {},
   "outputs": [],
   "source": [
    "import pandas as pd\n",
    "pd.set_option('display.max_columns', None)\n",
    "pd.set_option('display.max_colwidth', 20000)\n",
    "pd.options.mode.chained_assignment = None #Ignore Error: SettingWithCopyWarning"
   ]
  },
  {
   "cell_type": "code",
   "execution_count": 73,
   "metadata": {},
   "outputs": [],
   "source": [
    "df = pd.read_csv('../data/preprocessed/cleaned_data_v7.csv', delimiter=\",\")"
   ]
  },
  {
   "cell_type": "code",
   "execution_count": 74,
   "metadata": {},
   "outputs": [],
   "source": [
    "num = df[\"hight_delta\"]\n",
    "num[num > 0] = 0"
   ]
  },
  {
   "cell_type": "code",
   "execution_count": 75,
   "metadata": {},
   "outputs": [],
   "source": [
    "df['datum'] = pd.to_datetime(df['datum'])\n",
    "df_new = df.groupby('container_id').resample('D', on='datum').agg(\n",
    "    {\n",
    "        'container_id':'last',\n",
    "        'height_in_cm':'last',\n",
    "        'temperatur_in_grad':'mean',\n",
    "        'aussentemperatur':'mean',\n",
    "        'niederschlag_in_mm':'sum',\n",
    "        'ist_industriegebiet':'last',\n",
    "        'ist_wohngebiet':'last',\n",
    "        'ist_feiertag':'last',\n",
    "        'datum':'last',\n",
    "        'sekunde':'last',\n",
    "        'minute':'last',\n",
    "        'stunde':'last',\n",
    "        'wochentag':'last',\n",
    "        'kalenderwoche':'last',\n",
    "        'monat':'last',\n",
    "        'jahr':'last',\n",
    "        'farbe_brown':'last',\n",
    "        'farbe_green':'last',\n",
    "        'farbe_white':'last',\n",
    "        'unix_time':'last',\n",
    "        'time_delta':'last',\n",
    "        'hight_delta':'sum',\n",
    "        'ist_ferien':'last',\n",
    "        'laengengrad':'last',\n",
    "        'breitengrad':'last'\n",
    "    })"
   ]
  },
  {
   "cell_type": "code",
   "execution_count": 76,
   "metadata": {},
   "outputs": [],
   "source": [
    "df_new.to_csv('../data/preprocessed/cleaned_data_agg_v1.csv', index=False)"
   ]
  }
 ],
 "metadata": {
  "kernelspec": {
   "display_name": "bda-analytics-challenge",
   "language": "python",
   "name": "bda-analytics-challenge"
  },
  "language_info": {
   "codemirror_mode": {
    "name": "ipython",
    "version": 3
   },
   "file_extension": ".py",
   "mimetype": "text/x-python",
   "name": "python",
   "nbconvert_exporter": "python",
   "pygments_lexer": "ipython3",
   "version": "3.8.5"
  }
 },
 "nbformat": 4,
 "nbformat_minor": 4
}
