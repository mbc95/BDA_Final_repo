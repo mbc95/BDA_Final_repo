{
 "cells": [
  {
   "cell_type": "code",
   "execution_count": 9,
   "metadata": {},
   "outputs": [],
   "source": [
    "import pandas as pd\n",
    "pd.set_option('display.max_columns', None)\n",
    "pd.set_option('display.max_colwidth', 20000)\n",
    "pd.options.mode.chained_assignment = None #Ignore Error: SettingWithCopyWarning\n",
    "import math\n",
    "import matplotlib.pyplot as plt\n",
    "import numpy as np\n",
    "from keras.models import Sequential\n",
    "from keras.layers import Dense\n",
    "from keras.layers import LSTM\n",
    "from keras.layers import Dropout\n",
    "from keras.layers import *\n",
    "from sklearn.preprocessing import MinMaxScaler\n",
    "from sklearn.metrics import mean_squared_error\n",
    "from sklearn.metrics import mean_absolute_error\n",
    "from sklearn.model_selection import train_test_split\n",
    "from keras.callbacks import EarlyStopping\n",
    "import os\n",
    "import keras\n",
    "import tensorflow as tf\n",
    "from keras.layers import Input, Flatten, Dense, Lambda, Reshape, Dropout\n",
    "from keras.layers import BatchNormalization\n",
    "from keras.models import Model\n",
    "from keras.losses import binary_crossentropy\n",
    "from keras.metrics import mse, accuracy\n",
    "from keras.callbacks import ReduceLROnPlateau\n",
    "from keras import backend as K\n",
    "\n",
    "keras.backend.clear_session()"
   ]
  },
  {
   "cell_type": "markdown",
   "metadata": {},
   "source": [
    "# Load the data"
   ]
  },
  {
   "cell_type": "code",
   "execution_count": 10,
   "metadata": {},
   "outputs": [],
   "source": [
    "df = pd.read_csv('../data/preprocessed/cleaned_data_agg_v1.csv', delimiter=\",\")\n",
    "#df = pd.read_csv('../data/preprocessed/cleaned_data_v8.csv', delimiter=\",\")\n",
    "\n",
    "key_list = df.keys().tolist()\n",
    "\n",
    "for x in range(len(key_list)):\n",
    "    if not df.columns[x] == \"datum\":\n",
    "        if not df.columns[x] == \"container_id\":\n",
    "            df = df.astype({key_list[x]: \"float32\"})"
   ]
  },
  {
   "cell_type": "markdown",
   "metadata": {},
   "source": [
    "# Delete unwanted data; cast datetime"
   ]
  },
  {
   "cell_type": "code",
   "execution_count": 11,
   "metadata": {},
   "outputs": [],
   "source": [
    "# set date as index ancd convert to float\n",
    "df['datum'] = pd.to_datetime(df['datum'])\n",
    "df = df.set_index(df['datum'])\n",
    "df = df.sort_index()\n",
    "df['datum_float'] = df['datum'].values.astype(float)\n",
    "df = df.drop(columns=[\"height_in_cm\", \"datum\"])\n",
    "df = df.astype('float32')"
   ]
  },
  {
   "cell_type": "markdown",
   "metadata": {},
   "source": [
    "# Split into train/test"
   ]
  },
  {
   "cell_type": "code",
   "execution_count": 106,
   "metadata": {},
   "outputs": [
    {
     "name": "stdout",
     "output_type": "stream",
     "text": [
      "Train Dataset: (19142, 24)\n",
      "Test Dataset: (7539, 24)\n"
     ]
    },
    {
     "name": "stderr",
     "output_type": "stream",
     "text": [
      "C:\\Users\\david\\AppData\\Local\\Temp/ipykernel_9376/614333153.py:2: FutureWarning: Value based partial slicing on non-monotonic DatetimeIndexes with non-existing keys is deprecated and will raise a KeyError in a future Version.\n",
      "  training_set = df['2020-05-09 00:00:00':'2021-01-29 23:59:59']\n",
      "C:\\Users\\david\\AppData\\Local\\Temp/ipykernel_9376/614333153.py:3: FutureWarning: Value based partial slicing on non-monotonic DatetimeIndexes with non-existing keys is deprecated and will raise a KeyError in a future Version.\n",
      "  test_set  = df['2021-01-30 00:00:00':]\n"
     ]
    }
   ],
   "source": [
    "# create train test partition\n",
    "training_set = df['2020-05-09 00:00:00':'2021-01-29 23:59:59']\n",
    "test_set  = df['2021-01-30 00:00:00':]\n",
    "print('Train Dataset:',training_set.shape)\n",
    "print('Test Dataset:',test_set.shape)"
   ]
  },
  {
   "cell_type": "code",
   "execution_count": 107,
   "metadata": {},
   "outputs": [
    {
     "name": "stdout",
     "output_type": "stream",
     "text": [
      "<class 'pandas.core.frame.DataFrame'>\n",
      "DatetimeIndex: 19142 entries, 2020-05-09 19:40:46.486563 to 2021-01-29 23:58:02.169932\n",
      "Data columns (total 24 columns):\n",
      " #   Column               Non-Null Count  Dtype  \n",
      "---  ------               --------------  -----  \n",
      " 0   container_id         19142 non-null  float32\n",
      " 1   temperatur_in_grad   19142 non-null  float32\n",
      " 2   aussentemperatur     19142 non-null  float32\n",
      " 3   niederschlag_in_mm   19142 non-null  float32\n",
      " 4   ist_industriegebiet  19142 non-null  float32\n",
      " 5   ist_wohngebiet       19142 non-null  float32\n",
      " 6   ist_feiertag         19142 non-null  float32\n",
      " 7   sekunde              19142 non-null  float32\n",
      " 8   minute               19142 non-null  float32\n",
      " 9   stunde               19142 non-null  float32\n",
      " 10  wochentag            19142 non-null  float32\n",
      " 11  kalenderwoche        19142 non-null  float32\n",
      " 12  monat                19142 non-null  float32\n",
      " 13  jahr                 19142 non-null  float32\n",
      " 14  farbe_brown          19142 non-null  float32\n",
      " 15  farbe_green          19142 non-null  float32\n",
      " 16  farbe_white          19142 non-null  float32\n",
      " 17  unix_time            19142 non-null  float32\n",
      " 18  time_delta           19142 non-null  float32\n",
      " 19  hight_delta          19142 non-null  float32\n",
      " 20  ist_ferien           19142 non-null  float32\n",
      " 21  laengengrad          19142 non-null  float32\n",
      " 22  breitengrad          19142 non-null  float32\n",
      " 23  datum_float          19142 non-null  float32\n",
      "dtypes: float32(24)\n",
      "memory usage: 1.9 MB\n"
     ]
    }
   ],
   "source": [
    "training_set.info()"
   ]
  },
  {
   "cell_type": "markdown",
   "metadata": {},
   "source": [
    "# Prepare the training data"
   ]
  },
  {
   "cell_type": "code",
   "execution_count": 108,
   "metadata": {},
   "outputs": [],
   "source": [
    "#https://towardsdatascience.com/lstm-time-series-forecasting-predicting-stock-prices-using-an-lstm-model-6223e9644a2f\n",
    "#https://analyticsindiamag.com/hands-on-guide-to-lstm-recurrent-neural-network-for-stock-market-prediction/\n",
    "# Feature Scaling\n",
    "\n",
    "# ****************** START TUNING *************\n",
    "timelag = 3 #10\n",
    "epochs_number = 5 #10\n",
    "batch_size_number = 16 #32\n",
    "container_number = 2\n",
    "\n",
    "# ****************** END TUNING *************\n",
    "# Select container\n",
    "training_set = training_set[training_set['container_id']==container_number]\n",
    "\n",
    "# MinMax Scale x train set\n",
    "sc = MinMaxScaler(feature_range = (0, 1))\n",
    "train_set_all_scaled = training_set.drop(columns=[\"hight_delta\"])\n",
    "train_set_all_scaled = sc.fit_transform(train_set_all_scaled)\n",
    "\n",
    "# MinMax Scale y train set\n",
    "train_set = training_set.iloc[:, 20:21].values\n",
    "sc2 = MinMaxScaler(feature_range = (0, 1))\n",
    "train_set_scaled = sc2.fit_transform(train_set)\n",
    "\n",
    "X_train = []\n",
    "y_train = []\n",
    "for i in range(timelag, len(training_set)-1):\n",
    "    X_train.append(train_set_all_scaled[i-timelag:i,:])\n",
    "    y_train.append(train_set_scaled[i,:]) \n",
    "X_train, y_train = np.array(X_train), np.array(y_train)\n",
    "X_train = np.reshape(X_train, (X_train.shape[0], X_train.shape[1], 23))"
   ]
  },
  {
   "cell_type": "markdown",
   "metadata": {},
   "source": [
    "# Configure the model"
   ]
  },
  {
   "cell_type": "code",
   "execution_count": 109,
   "metadata": {},
   "outputs": [],
   "source": [
    "regressor = Sequential()\n",
    "regressor.add(LSTM(units = 50, return_sequences = True, input_shape = (X_train.shape[1], 23)))\n",
    "regressor.add(Dropout(0.2))\n",
    "regressor.add(LSTM(units = 50, return_sequences = True))\n",
    "regressor.add(Dropout(0.2))\n",
    "regressor.add(LSTM(units = 50, return_sequences = True))\n",
    "regressor.add(Dropout(0.2))\n",
    "regressor.add(LSTM(units = 50, return_sequences = True))\n",
    "regressor.add(Dropout(0.2))\n",
    "regressor.add(LSTM(units = 50, return_sequences = True))\n",
    "regressor.add(Dropout(0.2))\n",
    "regressor.add(LSTM(units = 50))\n",
    "regressor.add(Dropout(0.2))\n",
    "regressor.add(Dense(units = 1))\n",
    "\n",
    "#first callback method\n",
    "#reduce_lr = ReduceLROnPlateau(monitor='loss', factor=0.1, verbose=1,\n",
    "#patience=25, min_lr=0.0000001, min_delta=0.0001)\n",
    "#default value lr = 0.001\n",
    "#callbacks = [reduce_lr]\n",
    "\n",
    "# Second callback mehod\n",
    "#es_callback = keras.callbacks.EarlyStopping(monitor='val_loss', patience=3)"
   ]
  },
  {
   "cell_type": "markdown",
   "metadata": {},
   "source": [
    "# Train the model"
   ]
  },
  {
   "cell_type": "code",
   "execution_count": 110,
   "metadata": {
    "scrolled": true
   },
   "outputs": [
    {
     "name": "stdout",
     "output_type": "stream",
     "text": [
      "Epoch 1/5\n",
      "17/17 [==============================] - 22s 21ms/step - loss: 0.2688\n",
      "Epoch 2/5\n",
      "17/17 [==============================] - 0s 21ms/step - loss: 0.1962\n",
      "Epoch 3/5\n",
      "17/17 [==============================] - 0s 22ms/step - loss: 0.1880\n",
      "Epoch 4/5\n",
      "17/17 [==============================] - 0s 21ms/step - loss: 0.1233\n",
      "Epoch 5/5\n",
      "17/17 [==============================] - 0s 22ms/step - loss: 0.0555\n"
     ]
    },
    {
     "data": {
      "image/png": "[encoded data removed]",
      "text/plain": [
       "<Figure size 1440x720 with 1 Axes>"
      ]
     },
     "metadata": {
      "needs_background": "light"
     },
     "output_type": "display_data"
    }
   ],
   "source": [
    "regressor.compile(optimizer = 'adam', loss = 'mean_squared_error')\n",
    "history = regressor.fit(X_train, y_train, epochs = epochs_number, batch_size = batch_size_number)\n",
    "#, callbacks = callbacks\n",
    "# callbacks=[es_callback]\n",
    "plt.figure(figsize=(20,10))\n",
    "plt.plot(history.history['loss'], label='train')\n",
    "plt.legend()\n",
    "plt.show()"
   ]
  },
  {
   "cell_type": "markdown",
   "metadata": {},
   "source": [
    "# Prepare the test data"
   ]
  },
  {
   "cell_type": "code",
   "execution_count": 96,
   "metadata": {},
   "outputs": [],
   "source": [
    "#test_set_sub = test_set\n",
    "test_set_sub = test_set[test_set['container_id']==container_number]\n",
    "#training_set_sub = training_set\n",
    "training_set_sub = training_set[training_set['container_id']==container_number]\n",
    "\n",
    "real_height = test_set_sub.iloc[:, 20:21].values\n",
    "dataset_total = pd.concat((training_set_sub, test_set_sub), axis = 0)\n",
    "inputs = dataset_total[len(dataset_total) - len(test_set_sub) - timelag:].values\n",
    "#inputs = inputs.reshape(-1,24)\n",
    "#inputs = sc.transform(dataset_total[len(dataset_total) - len(test_set_sub) - timelag:])\n",
    "\n",
    "X_test = []\n",
    "for i in range(timelag, len(test_set_sub)+timelag):\n",
    "    X_test.append(inputs[i-timelag:i,:])\n",
    "X_test = np.array(X_test)\n",
    "X_test = np.reshape(X_test, (X_test.shape[0], X_test.shape[1], 24))"
   ]
  },
  {
   "cell_type": "code",
   "execution_count": 115,
   "metadata": {},
   "outputs": [],
   "source": [
    "#test_set_sub = test_set\n",
    "test_set_sub = test_set[test_set['container_id']==container_number]\n",
    "#training_set_sub = training_set\n",
    "training_set_sub = training_set[training_set['container_id']==container_number]\n",
    "\n",
    "dataset_total = pd.concat((training_set_sub, test_set_sub), axis = 0)\n",
    "\n",
    "# MinMax Scale x test set\n",
    "test_set_all_scaled = dataset_total.drop(columns=[\"hight_delta\"])\n",
    "test_set_all_scaled = sc.transform(test_set_all_scaled)\n",
    "\n",
    "# y test set\n",
    "real_height = test_set_sub.iloc[:, 20:21].values\n",
    "\n",
    "X_test = []\n",
    "for i in range(timelag, len(test_set_sub)+timelag):\n",
    "    X_test.append(train_set_all_scaled[i-timelag:i,:])\n",
    "X_test = np.array(X_test)\n",
    "X_test = np.reshape(X_test, (X_test.shape[0], X_test.shape[1], 23))"
   ]
  },
  {
   "cell_type": "markdown",
   "metadata": {},
   "source": [
    "# Predict"
   ]
  },
  {
   "cell_type": "code",
   "execution_count": 116,
   "metadata": {},
   "outputs": [],
   "source": [
    "#predicted_height = regressor.predict(X_test)\n",
    "\n",
    "predicted_height = regressor.predict(X_test)\n",
    "predicted_height = sc2.inverse_transform(predicted_height)"
   ]
  },
  {
   "cell_type": "markdown",
   "metadata": {},
   "source": [
    "# Plot the prediction"
   ]
  },
  {
   "cell_type": "code",
   "execution_count": 117,
   "metadata": {},
   "outputs": [
    {
     "data": {
      "image/png": "[encoded data removed]",
      "text/plain": [
       "<Figure size 1440x720 with 1 Axes>"
      ]
     },
     "metadata": {
      "needs_background": "light"
     },
     "output_type": "display_data"
    }
   ],
   "source": [
    "plt.figure(figsize=(20,10))\n",
    "plt.plot(real_height, color = 'green', label = 'Real Height')\n",
    "plt.plot(predicted_height, color = 'red', label = 'Predicted Height')\n",
    "plt.title('Height Prediction with Timelag '+ str(timelag) + ' for container number ' +str(container_number))\n",
    "plt.xlabel('Time')\n",
    "plt.ylabel('Height Delta')\n",
    "plt.legend()\n",
    "plt.show()"
   ]
  },
  {
   "cell_type": "markdown",
   "metadata": {},
   "source": [
    "# Export Model"
   ]
  },
  {
   "cell_type": "code",
   "execution_count": null,
   "metadata": {},
   "outputs": [],
   "source": [
    "regressor.save('../data/modeling/dev/test_model')"
   ]
  },
  {
   "cell_type": "markdown",
   "metadata": {},
   "source": [
    "# TEST FOR A SINGLE PREDICTION"
   ]
  },
  {
   "cell_type": "code",
   "execution_count": null,
   "metadata": {},
   "outputs": [],
   "source": [
    "reconstructed_model = keras.models.load_model(\"../data/modeling/dev/test_model\")"
   ]
  },
  {
   "cell_type": "code",
   "execution_count": null,
   "metadata": {},
   "outputs": [],
   "source": [
    "test_set_sub = test_set[test_set['container_id']==1].head(1)\n",
    "training_set_sub = training_set[training_set['container_id']==1]\n",
    "\n",
    "real_height = test_set_sub.iloc[:, 20:21].values\n",
    "dataset_total = pd.concat((training_set_sub['hight_delta'], test_set_sub['hight_delta']), axis = 0)\n",
    "inputs = dataset_total[len(dataset_total) - len(test_set_sub) - timelag:].values\n",
    "inputs = inputs.reshape(-1,1)\n",
    "inputs = sc.transform(inputs)\n",
    "X_test = []\n",
    "for i in range(timelag, len(test_set_sub)+timelag):\n",
    "    X_test.append(inputs[i-timelag:i, 0])\n",
    "X_test = np.array(X_test)\n",
    "X_test = np.reshape(X_test, (X_test.shape[0], X_test.shape[1], 1))\n",
    "\n",
    "predicted_height = reconstructed_model.predict(X_test)\n",
    "predicted_height = sc.inverse_transform(predicted_height)\n",
    "\n",
    "print(\"Pred =\"+str(predicted_height)+\" and real height = \"+str(real_height))"
   ]
  },
  {
   "cell_type": "code",
   "execution_count": null,
   "metadata": {},
   "outputs": [],
   "source": [
    "test_set_sub"
   ]
  }
 ],
 "metadata": {
  "kernelspec": {
   "display_name": "bda-analytics-challenge",
   "language": "python",
   "name": "bda-analytics-challenge"
  },
  "language_info": {
   "codemirror_mode": {
    "name": "ipython",
    "version": 3
   },
   "file_extension": ".py",
   "mimetype": "text/x-python",
   "name": "python",
   "nbconvert_exporter": "python",
   "pygments_lexer": "ipython3",
   "version": "3.8.5"
  }
 },
 "nbformat": 4,
 "nbformat_minor": 4
}
