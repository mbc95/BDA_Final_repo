{
 "cells": [
  {
   "cell_type": "code",
   "execution_count": 4,
   "metadata": {},
   "outputs": [],
   "source": [
    "import json as json\n",
    "from sklearn.model_selection import train_test_split\n",
    "import pandas as pd\n",
    "from sklearn import metrics\n",
    "import numpy as np"
   ]
  },
  {
   "cell_type": "code",
   "execution_count": 5,
   "metadata": {},
   "outputs": [
    {
     "data": {
      "text/plain": [
       "LinearRegression()"
      ]
     },
     "execution_count": 5,
     "metadata": {},
     "output_type": "execute_result"
    }
   ],
   "source": [
    "df_all_reduced = pd.read_csv ('../data/preprocessed/cleaned_data.csv')\n",
    "\n",
    "df_all_reduced_test = df_all_reduced.copy()\n",
    "df_all_reduced_test.drop('decoded_data.sensor_data.Height 1', 1, inplace=True) # Dopplung - Wir nutzen created_at\n",
    "df_all_reduced_test.drop('deveui', 1, inplace=True) # Dopplung - Wir nutzen created_at\n",
    "df_all_reduced_test.drop('created_at', 1, inplace=True) # Dopplung - Wir nutzen created_at\n",
    "df_all_reduced_test.drop('decoded_data.sensor_data.Events', 1, inplace=True) # Dopplung - Wir nutzen created_at\n",
    "\n",
    "X_train, X_test, y_train, y_test = train_test_split(df_all_reduced_test, df_all_reduced[\"decoded_data.sensor_data.Height 1\"], test_size=0.2, random_state=0)\n",
    "\n",
    "from sklearn.linear_model import LinearRegression\n",
    "regressor = LinearRegression()\n",
    "regressor.fit(X_train, y_train)"
   ]
  },
  {
   "cell_type": "code",
   "execution_count": 6,
   "metadata": {},
   "outputs": [
    {
     "name": "stdout",
     "output_type": "stream",
     "text": [
      "83.77329545786507\n"
     ]
    }
   ],
   "source": [
    "print(regressor.intercept_)"
   ]
  },
  {
   "cell_type": "code",
   "execution_count": 7,
   "metadata": {},
   "outputs": [
    {
     "name": "stdout",
     "output_type": "stream",
     "text": [
      "[-3.86323698e-07 -1.83078920e-02  7.77365742e-01  3.48256071e-03]\n"
     ]
    }
   ],
   "source": [
    "print(regressor.coef_)"
   ]
  },
  {
   "cell_type": "code",
   "execution_count": 8,
   "metadata": {},
   "outputs": [
    {
     "data": {
      "text/html": [
       "<div>\n",
       "<style scoped>\n",
       "    .dataframe tbody tr th:only-of-type {\n",
       "        vertical-align: middle;\n",
       "    }\n",
       "\n",
       "    .dataframe tbody tr th {\n",
       "        vertical-align: top;\n",
       "    }\n",
       "\n",
       "    .dataframe thead th {\n",
       "        text-align: right;\n",
       "    }\n",
       "</style>\n",
       "<table border=\"1\" class=\"dataframe\">\n",
       "  <thead>\n",
       "    <tr style=\"text-align: right;\">\n",
       "      <th></th>\n",
       "      <th>Actual</th>\n",
       "      <th>Predicted</th>\n",
       "    </tr>\n",
       "  </thead>\n",
       "  <tbody>\n",
       "    <tr>\n",
       "      <th>368404</th>\n",
       "      <td>122</td>\n",
       "      <td>82.622869</td>\n",
       "    </tr>\n",
       "    <tr>\n",
       "      <th>422301</th>\n",
       "      <td>82</td>\n",
       "      <td>84.152282</td>\n",
       "    </tr>\n",
       "    <tr>\n",
       "      <th>284637</th>\n",
       "      <td>10</td>\n",
       "      <td>83.828523</td>\n",
       "    </tr>\n",
       "    <tr>\n",
       "      <th>298764</th>\n",
       "      <td>84</td>\n",
       "      <td>86.295586</td>\n",
       "    </tr>\n",
       "    <tr>\n",
       "      <th>449634</th>\n",
       "      <td>108</td>\n",
       "      <td>82.930285</td>\n",
       "    </tr>\n",
       "    <tr>\n",
       "      <th>...</th>\n",
       "      <td>...</td>\n",
       "      <td>...</td>\n",
       "    </tr>\n",
       "    <tr>\n",
       "      <th>411859</th>\n",
       "      <td>20</td>\n",
       "      <td>83.734630</td>\n",
       "    </tr>\n",
       "    <tr>\n",
       "      <th>456079</th>\n",
       "      <td>62</td>\n",
       "      <td>83.537576</td>\n",
       "    </tr>\n",
       "    <tr>\n",
       "      <th>48759</th>\n",
       "      <td>62</td>\n",
       "      <td>85.514088</td>\n",
       "    </tr>\n",
       "    <tr>\n",
       "      <th>320488</th>\n",
       "      <td>48</td>\n",
       "      <td>82.596757</td>\n",
       "    </tr>\n",
       "    <tr>\n",
       "      <th>372708</th>\n",
       "      <td>110</td>\n",
       "      <td>83.247060</td>\n",
       "    </tr>\n",
       "  </tbody>\n",
       "</table>\n",
       "<p>103008 rows × 2 columns</p>\n",
       "</div>"
      ],
      "text/plain": [
       "        Actual  Predicted\n",
       "368404     122  82.622869\n",
       "422301      82  84.152282\n",
       "284637      10  83.828523\n",
       "298764      84  86.295586\n",
       "449634     108  82.930285\n",
       "...        ...        ...\n",
       "411859      20  83.734630\n",
       "456079      62  83.537576\n",
       "48759       62  85.514088\n",
       "320488      48  82.596757\n",
       "372708     110  83.247060\n",
       "\n",
       "[103008 rows x 2 columns]"
      ]
     },
     "execution_count": 8,
     "metadata": {},
     "output_type": "execute_result"
    }
   ],
   "source": [
    "y_pred = regressor.predict(X_test)\n",
    "df = pd.DataFrame({'Actual': y_test, 'Predicted': y_pred})\n",
    "df       "
   ]
  },
  {
   "cell_type": "code",
   "execution_count": 9,
   "metadata": {},
   "outputs": [
    {
     "name": "stdout",
     "output_type": "stream",
     "text": [
      "Mean Absolute Error: 26.799310766312722\n",
      "Mean Squared Error: 1176.196424877183\n",
      "Root Mean Squared Error: 34.29572021225364\n"
     ]
    }
   ],
   "source": [
    "print('Mean Absolute Error:', metrics.mean_absolute_error(y_test, y_pred))\n",
    "print('Mean Squared Error:', metrics.mean_squared_error(y_test, y_pred))\n",
    "print('Root Mean Squared Error:', np.sqrt(metrics.mean_squared_error(y_test, y_pred)))"
   ]
  },
  {
   "cell_type": "code",
   "execution_count": 10,
   "metadata": {},
   "outputs": [
    {
     "data": {
      "text/plain": [
       "84.41307323551511"
      ]
     },
     "execution_count": 10,
     "metadata": {},
     "output_type": "execute_result"
    }
   ],
   "source": [
    "np.mean(df_all_reduced[\"decoded_data.sensor_data.Height 1\"])"
   ]
  }
 ],
 "metadata": {
  "kernelspec": {
   "display_name": "bda-analytics-challenge",
   "language": "python",
   "name": "bda-analytics-challenge"
  },
  "language_info": {
   "codemirror_mode": {
    "name": "ipython",
    "version": 3
   },
   "file_extension": ".py",
   "mimetype": "text/x-python",
   "name": "python",
   "nbconvert_exporter": "python",
   "pygments_lexer": "ipython3",
   "version": "3.8.5"
  }
 },
 "nbformat": 4,
 "nbformat_minor": 4
}
